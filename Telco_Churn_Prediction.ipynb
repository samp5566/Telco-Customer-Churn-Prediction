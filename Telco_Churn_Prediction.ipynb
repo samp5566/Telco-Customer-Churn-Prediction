{
 "cells": [
  {
   "cell_type": "code",
   "execution_count": 26,
   "metadata": {},
   "outputs": [],
   "source": [
    "import pandas as pd\n",
    "import numpy as np\n",
    "import matplotlib.pyplot as plt\n",
    "import seaborn as sns\n",
    "import warnings\n",
    "warnings.filterwarnings('ignore')"
   ]
  },
  {
   "cell_type": "markdown",
   "metadata": {},
   "source": [
    "Load modified dataset obtained after EDA"
   ]
  },
  {
   "cell_type": "code",
   "execution_count": 27,
   "metadata": {},
   "outputs": [
    {
     "data": {
      "text/html": [
       "<div>\n",
       "<style scoped>\n",
       "    .dataframe tbody tr th:only-of-type {\n",
       "        vertical-align: middle;\n",
       "    }\n",
       "\n",
       "    .dataframe tbody tr th {\n",
       "        vertical-align: top;\n",
       "    }\n",
       "\n",
       "    .dataframe thead th {\n",
       "        text-align: right;\n",
       "    }\n",
       "</style>\n",
       "<table border=\"1\" class=\"dataframe\">\n",
       "  <thead>\n",
       "    <tr style=\"text-align: right;\">\n",
       "      <th></th>\n",
       "      <th>Senior Citizen</th>\n",
       "      <th>Partner</th>\n",
       "      <th>Dependents</th>\n",
       "      <th>Tenure Months</th>\n",
       "      <th>Multiple Lines</th>\n",
       "      <th>Internet Service</th>\n",
       "      <th>Online Security</th>\n",
       "      <th>Online Backup</th>\n",
       "      <th>Device Protection</th>\n",
       "      <th>Tech Support</th>\n",
       "      <th>Streaming TV</th>\n",
       "      <th>Streaming Movies</th>\n",
       "      <th>Contract</th>\n",
       "      <th>Paperless Billing</th>\n",
       "      <th>Payment Method</th>\n",
       "      <th>Monthly Charges</th>\n",
       "      <th>Total Charges</th>\n",
       "      <th>Churn Value</th>\n",
       "      <th>CLTV</th>\n",
       "    </tr>\n",
       "  </thead>\n",
       "  <tbody>\n",
       "    <tr>\n",
       "      <th>0</th>\n",
       "      <td>No</td>\n",
       "      <td>No</td>\n",
       "      <td>No</td>\n",
       "      <td>2</td>\n",
       "      <td>No</td>\n",
       "      <td>DSL</td>\n",
       "      <td>Yes</td>\n",
       "      <td>Yes</td>\n",
       "      <td>No</td>\n",
       "      <td>No</td>\n",
       "      <td>No</td>\n",
       "      <td>No</td>\n",
       "      <td>Month-to-month</td>\n",
       "      <td>Yes</td>\n",
       "      <td>Mailed check</td>\n",
       "      <td>53.85</td>\n",
       "      <td>10.399519</td>\n",
       "      <td>1</td>\n",
       "      <td>3239</td>\n",
       "    </tr>\n",
       "    <tr>\n",
       "      <th>1</th>\n",
       "      <td>No</td>\n",
       "      <td>No</td>\n",
       "      <td>Yes</td>\n",
       "      <td>2</td>\n",
       "      <td>No</td>\n",
       "      <td>Fiber optic</td>\n",
       "      <td>No</td>\n",
       "      <td>No</td>\n",
       "      <td>No</td>\n",
       "      <td>No</td>\n",
       "      <td>No</td>\n",
       "      <td>No</td>\n",
       "      <td>Month-to-month</td>\n",
       "      <td>Yes</td>\n",
       "      <td>Electronic check</td>\n",
       "      <td>70.70</td>\n",
       "      <td>12.314625</td>\n",
       "      <td>1</td>\n",
       "      <td>2701</td>\n",
       "    </tr>\n",
       "    <tr>\n",
       "      <th>2</th>\n",
       "      <td>No</td>\n",
       "      <td>No</td>\n",
       "      <td>Yes</td>\n",
       "      <td>8</td>\n",
       "      <td>Yes</td>\n",
       "      <td>Fiber optic</td>\n",
       "      <td>No</td>\n",
       "      <td>No</td>\n",
       "      <td>Yes</td>\n",
       "      <td>No</td>\n",
       "      <td>Yes</td>\n",
       "      <td>Yes</td>\n",
       "      <td>Month-to-month</td>\n",
       "      <td>Yes</td>\n",
       "      <td>Electronic check</td>\n",
       "      <td>99.65</td>\n",
       "      <td>28.644371</td>\n",
       "      <td>1</td>\n",
       "      <td>5372</td>\n",
       "    </tr>\n",
       "    <tr>\n",
       "      <th>3</th>\n",
       "      <td>No</td>\n",
       "      <td>Yes</td>\n",
       "      <td>Yes</td>\n",
       "      <td>28</td>\n",
       "      <td>Yes</td>\n",
       "      <td>Fiber optic</td>\n",
       "      <td>No</td>\n",
       "      <td>No</td>\n",
       "      <td>Yes</td>\n",
       "      <td>Yes</td>\n",
       "      <td>Yes</td>\n",
       "      <td>Yes</td>\n",
       "      <td>Month-to-month</td>\n",
       "      <td>Yes</td>\n",
       "      <td>Electronic check</td>\n",
       "      <td>104.80</td>\n",
       "      <td>55.191032</td>\n",
       "      <td>1</td>\n",
       "      <td>5003</td>\n",
       "    </tr>\n",
       "    <tr>\n",
       "      <th>4</th>\n",
       "      <td>No</td>\n",
       "      <td>No</td>\n",
       "      <td>Yes</td>\n",
       "      <td>49</td>\n",
       "      <td>Yes</td>\n",
       "      <td>Fiber optic</td>\n",
       "      <td>No</td>\n",
       "      <td>Yes</td>\n",
       "      <td>Yes</td>\n",
       "      <td>No</td>\n",
       "      <td>Yes</td>\n",
       "      <td>Yes</td>\n",
       "      <td>Month-to-month</td>\n",
       "      <td>Yes</td>\n",
       "      <td>Bank transfer (automatic)</td>\n",
       "      <td>103.70</td>\n",
       "      <td>70.966894</td>\n",
       "      <td>1</td>\n",
       "      <td>5340</td>\n",
       "    </tr>\n",
       "  </tbody>\n",
       "</table>\n",
       "</div>"
      ],
      "text/plain": [
       "  Senior Citizen Partner Dependents  ...  Total Charges Churn Value  CLTV\n",
       "0             No      No         No  ...      10.399519           1  3239\n",
       "1             No      No        Yes  ...      12.314625           1  2701\n",
       "2             No      No        Yes  ...      28.644371           1  5372\n",
       "3             No     Yes        Yes  ...      55.191032           1  5003\n",
       "4             No      No        Yes  ...      70.966894           1  5340\n",
       "\n",
       "[5 rows x 19 columns]"
      ]
     },
     "execution_count": 27,
     "metadata": {},
     "output_type": "execute_result"
    }
   ],
   "source": [
    "df = pd.read_csv('Cleaned_Telco-Customer-Churn.csv')\n",
    "df.head()"
   ]
  },
  {
   "cell_type": "markdown",
   "metadata": {},
   "source": [
    "One Hot Encoding"
   ]
  },
  {
   "cell_type": "code",
   "execution_count": 28,
   "metadata": {},
   "outputs": [],
   "source": [
    "from sklearn.preprocessing import OneHotEncoder"
   ]
  },
  {
   "cell_type": "code",
   "execution_count": null,
   "metadata": {},
   "outputs": [
    {
     "data": {
      "text/html": [
       "<div>\n",
       "<style scoped>\n",
       "    .dataframe tbody tr th:only-of-type {\n",
       "        vertical-align: middle;\n",
       "    }\n",
       "\n",
       "    .dataframe tbody tr th {\n",
       "        vertical-align: top;\n",
       "    }\n",
       "\n",
       "    .dataframe thead th {\n",
       "        text-align: right;\n",
       "    }\n",
       "</style>\n",
       "<table border=\"1\" class=\"dataframe\">\n",
       "  <thead>\n",
       "    <tr style=\"text-align: right;\">\n",
       "      <th></th>\n",
       "      <th>Senior Citizen_Yes</th>\n",
       "      <th>Partner_Yes</th>\n",
       "      <th>Dependents_Yes</th>\n",
       "      <th>Multiple Lines_No phone service</th>\n",
       "      <th>Multiple Lines_Yes</th>\n",
       "      <th>Internet Service_Fiber optic</th>\n",
       "      <th>Internet Service_No</th>\n",
       "      <th>Online Security_No internet service</th>\n",
       "      <th>Online Security_Yes</th>\n",
       "      <th>Online Backup_No internet service</th>\n",
       "      <th>Online Backup_Yes</th>\n",
       "      <th>Device Protection_No internet service</th>\n",
       "      <th>Device Protection_Yes</th>\n",
       "      <th>Tech Support_No internet service</th>\n",
       "      <th>Tech Support_Yes</th>\n",
       "      <th>Streaming TV_No internet service</th>\n",
       "      <th>Streaming TV_Yes</th>\n",
       "      <th>Streaming Movies_No internet service</th>\n",
       "      <th>Streaming Movies_Yes</th>\n",
       "      <th>Contract_One year</th>\n",
       "      <th>Contract_Two year</th>\n",
       "      <th>Paperless Billing_Yes</th>\n",
       "      <th>Payment Method_Credit card (automatic)</th>\n",
       "      <th>Payment Method_Electronic check</th>\n",
       "      <th>Payment Method_Mailed check</th>\n",
       "      <th>Tenure Months</th>\n",
       "      <th>Monthly Charges</th>\n",
       "      <th>Total Charges</th>\n",
       "      <th>Churn Value</th>\n",
       "      <th>CLTV</th>\n",
       "    </tr>\n",
       "  </thead>\n",
       "  <tbody>\n",
       "    <tr>\n",
       "      <th>0</th>\n",
       "      <td>0.0</td>\n",
       "      <td>0.0</td>\n",
       "      <td>0.0</td>\n",
       "      <td>0.0</td>\n",
       "      <td>0.0</td>\n",
       "      <td>0.0</td>\n",
       "      <td>0.0</td>\n",
       "      <td>0.0</td>\n",
       "      <td>1.0</td>\n",
       "      <td>0.0</td>\n",
       "      <td>1.0</td>\n",
       "      <td>0.0</td>\n",
       "      <td>0.0</td>\n",
       "      <td>0.0</td>\n",
       "      <td>0.0</td>\n",
       "      <td>0.0</td>\n",
       "      <td>0.0</td>\n",
       "      <td>0.0</td>\n",
       "      <td>0.0</td>\n",
       "      <td>0.0</td>\n",
       "      <td>0.0</td>\n",
       "      <td>1.0</td>\n",
       "      <td>0.0</td>\n",
       "      <td>0.0</td>\n",
       "      <td>1.0</td>\n",
       "      <td>2</td>\n",
       "      <td>53.85</td>\n",
       "      <td>10.399519</td>\n",
       "      <td>1</td>\n",
       "      <td>3239</td>\n",
       "    </tr>\n",
       "    <tr>\n",
       "      <th>1</th>\n",
       "      <td>0.0</td>\n",
       "      <td>0.0</td>\n",
       "      <td>1.0</td>\n",
       "      <td>0.0</td>\n",
       "      <td>0.0</td>\n",
       "      <td>1.0</td>\n",
       "      <td>0.0</td>\n",
       "      <td>0.0</td>\n",
       "      <td>0.0</td>\n",
       "      <td>0.0</td>\n",
       "      <td>0.0</td>\n",
       "      <td>0.0</td>\n",
       "      <td>0.0</td>\n",
       "      <td>0.0</td>\n",
       "      <td>0.0</td>\n",
       "      <td>0.0</td>\n",
       "      <td>0.0</td>\n",
       "      <td>0.0</td>\n",
       "      <td>0.0</td>\n",
       "      <td>0.0</td>\n",
       "      <td>0.0</td>\n",
       "      <td>1.0</td>\n",
       "      <td>0.0</td>\n",
       "      <td>1.0</td>\n",
       "      <td>0.0</td>\n",
       "      <td>2</td>\n",
       "      <td>70.70</td>\n",
       "      <td>12.314625</td>\n",
       "      <td>1</td>\n",
       "      <td>2701</td>\n",
       "    </tr>\n",
       "    <tr>\n",
       "      <th>2</th>\n",
       "      <td>0.0</td>\n",
       "      <td>0.0</td>\n",
       "      <td>1.0</td>\n",
       "      <td>0.0</td>\n",
       "      <td>1.0</td>\n",
       "      <td>1.0</td>\n",
       "      <td>0.0</td>\n",
       "      <td>0.0</td>\n",
       "      <td>0.0</td>\n",
       "      <td>0.0</td>\n",
       "      <td>0.0</td>\n",
       "      <td>0.0</td>\n",
       "      <td>1.0</td>\n",
       "      <td>0.0</td>\n",
       "      <td>0.0</td>\n",
       "      <td>0.0</td>\n",
       "      <td>1.0</td>\n",
       "      <td>0.0</td>\n",
       "      <td>1.0</td>\n",
       "      <td>0.0</td>\n",
       "      <td>0.0</td>\n",
       "      <td>1.0</td>\n",
       "      <td>0.0</td>\n",
       "      <td>1.0</td>\n",
       "      <td>0.0</td>\n",
       "      <td>8</td>\n",
       "      <td>99.65</td>\n",
       "      <td>28.644371</td>\n",
       "      <td>1</td>\n",
       "      <td>5372</td>\n",
       "    </tr>\n",
       "    <tr>\n",
       "      <th>3</th>\n",
       "      <td>0.0</td>\n",
       "      <td>1.0</td>\n",
       "      <td>1.0</td>\n",
       "      <td>0.0</td>\n",
       "      <td>1.0</td>\n",
       "      <td>1.0</td>\n",
       "      <td>0.0</td>\n",
       "      <td>0.0</td>\n",
       "      <td>0.0</td>\n",
       "      <td>0.0</td>\n",
       "      <td>0.0</td>\n",
       "      <td>0.0</td>\n",
       "      <td>1.0</td>\n",
       "      <td>0.0</td>\n",
       "      <td>1.0</td>\n",
       "      <td>0.0</td>\n",
       "      <td>1.0</td>\n",
       "      <td>0.0</td>\n",
       "      <td>1.0</td>\n",
       "      <td>0.0</td>\n",
       "      <td>0.0</td>\n",
       "      <td>1.0</td>\n",
       "      <td>0.0</td>\n",
       "      <td>1.0</td>\n",
       "      <td>0.0</td>\n",
       "      <td>28</td>\n",
       "      <td>104.80</td>\n",
       "      <td>55.191032</td>\n",
       "      <td>1</td>\n",
       "      <td>5003</td>\n",
       "    </tr>\n",
       "    <tr>\n",
       "      <th>4</th>\n",
       "      <td>0.0</td>\n",
       "      <td>0.0</td>\n",
       "      <td>1.0</td>\n",
       "      <td>0.0</td>\n",
       "      <td>1.0</td>\n",
       "      <td>1.0</td>\n",
       "      <td>0.0</td>\n",
       "      <td>0.0</td>\n",
       "      <td>0.0</td>\n",
       "      <td>0.0</td>\n",
       "      <td>1.0</td>\n",
       "      <td>0.0</td>\n",
       "      <td>1.0</td>\n",
       "      <td>0.0</td>\n",
       "      <td>0.0</td>\n",
       "      <td>0.0</td>\n",
       "      <td>1.0</td>\n",
       "      <td>0.0</td>\n",
       "      <td>1.0</td>\n",
       "      <td>0.0</td>\n",
       "      <td>0.0</td>\n",
       "      <td>1.0</td>\n",
       "      <td>0.0</td>\n",
       "      <td>0.0</td>\n",
       "      <td>0.0</td>\n",
       "      <td>49</td>\n",
       "      <td>103.70</td>\n",
       "      <td>70.966894</td>\n",
       "      <td>1</td>\n",
       "      <td>5340</td>\n",
       "    </tr>\n",
       "  </tbody>\n",
       "</table>\n",
       "</div>"
      ],
      "text/plain": [
       "   Senior Citizen_Yes  Partner_Yes  ...  Churn Value  CLTV\n",
       "0                 0.0          0.0  ...            1  3239\n",
       "1                 0.0          0.0  ...            1  2701\n",
       "2                 0.0          0.0  ...            1  5372\n",
       "3                 0.0          1.0  ...            1  5003\n",
       "4                 0.0          0.0  ...            1  5340\n",
       "\n",
       "[5 rows x 30 columns]"
      ]
     },
     "execution_count": 29,
     "metadata": {},
     "output_type": "execute_result"
    }
   ],
   "source": [
    "#Duplicate dataframe\n",
    "df1 = df.copy()\n",
    "\n",
    "#Split  the data into categorical and numerical feaures\n",
    "cat_col = df1.select_dtypes(include='object')\n",
    "num_col = df1.select_dtypes(include=['int64','float64'])\n",
    "    \n",
    "\n",
    "#One hot encoding categorical features \n",
    "encoder = OneHotEncoder(drop='first',sparse_output=False)\n",
    "cat_encoded = encoder.fit_transform(cat_col)\n",
    "cat_encoded = pd.DataFrame(cat_encoded,columns=encoder.get_feature_names_out(cat_col.columns))\n",
    "\n",
    "#Combine categorical and numerical features into one df\n",
    "df_encoded = pd.concat([cat_encoded,num_col],axis=1)\n",
    "df_encoded.head()\n"
   ]
  },
  {
   "cell_type": "markdown",
   "metadata": {},
   "source": [
    "Data Standardization"
   ]
  },
  {
   "cell_type": "code",
   "execution_count": 30,
   "metadata": {},
   "outputs": [],
   "source": [
    "from sklearn.preprocessing import StandardScaler\n",
    "scaler= StandardScaler()"
   ]
  },
  {
   "cell_type": "code",
   "execution_count": 31,
   "metadata": {},
   "outputs": [
    {
     "data": {
      "text/html": [
       "<div>\n",
       "<style scoped>\n",
       "    .dataframe tbody tr th:only-of-type {\n",
       "        vertical-align: middle;\n",
       "    }\n",
       "\n",
       "    .dataframe tbody tr th {\n",
       "        vertical-align: top;\n",
       "    }\n",
       "\n",
       "    .dataframe thead th {\n",
       "        text-align: right;\n",
       "    }\n",
       "</style>\n",
       "<table border=\"1\" class=\"dataframe\">\n",
       "  <thead>\n",
       "    <tr style=\"text-align: right;\">\n",
       "      <th></th>\n",
       "      <th>Senior Citizen_Yes</th>\n",
       "      <th>Partner_Yes</th>\n",
       "      <th>Dependents_Yes</th>\n",
       "      <th>Multiple Lines_No phone service</th>\n",
       "      <th>Multiple Lines_Yes</th>\n",
       "      <th>Internet Service_Fiber optic</th>\n",
       "      <th>Internet Service_No</th>\n",
       "      <th>Online Security_No internet service</th>\n",
       "      <th>Online Security_Yes</th>\n",
       "      <th>Online Backup_No internet service</th>\n",
       "      <th>Online Backup_Yes</th>\n",
       "      <th>Device Protection_No internet service</th>\n",
       "      <th>Device Protection_Yes</th>\n",
       "      <th>Tech Support_No internet service</th>\n",
       "      <th>Tech Support_Yes</th>\n",
       "      <th>Streaming TV_No internet service</th>\n",
       "      <th>Streaming TV_Yes</th>\n",
       "      <th>Streaming Movies_No internet service</th>\n",
       "      <th>Streaming Movies_Yes</th>\n",
       "      <th>Contract_One year</th>\n",
       "      <th>Contract_Two year</th>\n",
       "      <th>Paperless Billing_Yes</th>\n",
       "      <th>Payment Method_Credit card (automatic)</th>\n",
       "      <th>Payment Method_Electronic check</th>\n",
       "      <th>Payment Method_Mailed check</th>\n",
       "      <th>Tenure Months</th>\n",
       "      <th>Monthly Charges</th>\n",
       "      <th>Total Charges</th>\n",
       "      <th>Churn Value</th>\n",
       "      <th>CLTV</th>\n",
       "    </tr>\n",
       "  </thead>\n",
       "  <tbody>\n",
       "    <tr>\n",
       "      <th>0</th>\n",
       "      <td>0.0</td>\n",
       "      <td>0.0</td>\n",
       "      <td>0.0</td>\n",
       "      <td>0.0</td>\n",
       "      <td>0.0</td>\n",
       "      <td>0.0</td>\n",
       "      <td>0.0</td>\n",
       "      <td>0.0</td>\n",
       "      <td>1.0</td>\n",
       "      <td>0.0</td>\n",
       "      <td>1.0</td>\n",
       "      <td>0.0</td>\n",
       "      <td>0.0</td>\n",
       "      <td>0.0</td>\n",
       "      <td>0.0</td>\n",
       "      <td>0.0</td>\n",
       "      <td>0.0</td>\n",
       "      <td>0.0</td>\n",
       "      <td>0.0</td>\n",
       "      <td>0.0</td>\n",
       "      <td>0.0</td>\n",
       "      <td>1.0</td>\n",
       "      <td>0.0</td>\n",
       "      <td>0.0</td>\n",
       "      <td>1.0</td>\n",
       "      <td>-1.236724</td>\n",
       "      <td>-0.362660</td>\n",
       "      <td>-1.248349</td>\n",
       "      <td>1</td>\n",
       "      <td>-0.981675</td>\n",
       "    </tr>\n",
       "    <tr>\n",
       "      <th>1</th>\n",
       "      <td>0.0</td>\n",
       "      <td>0.0</td>\n",
       "      <td>1.0</td>\n",
       "      <td>0.0</td>\n",
       "      <td>0.0</td>\n",
       "      <td>1.0</td>\n",
       "      <td>0.0</td>\n",
       "      <td>0.0</td>\n",
       "      <td>0.0</td>\n",
       "      <td>0.0</td>\n",
       "      <td>0.0</td>\n",
       "      <td>0.0</td>\n",
       "      <td>0.0</td>\n",
       "      <td>0.0</td>\n",
       "      <td>0.0</td>\n",
       "      <td>0.0</td>\n",
       "      <td>0.0</td>\n",
       "      <td>0.0</td>\n",
       "      <td>0.0</td>\n",
       "      <td>0.0</td>\n",
       "      <td>0.0</td>\n",
       "      <td>1.0</td>\n",
       "      <td>0.0</td>\n",
       "      <td>1.0</td>\n",
       "      <td>0.0</td>\n",
       "      <td>-1.236724</td>\n",
       "      <td>0.197365</td>\n",
       "      <td>-1.170252</td>\n",
       "      <td>1</td>\n",
       "      <td>-1.436462</td>\n",
       "    </tr>\n",
       "    <tr>\n",
       "      <th>2</th>\n",
       "      <td>0.0</td>\n",
       "      <td>0.0</td>\n",
       "      <td>1.0</td>\n",
       "      <td>0.0</td>\n",
       "      <td>1.0</td>\n",
       "      <td>1.0</td>\n",
       "      <td>0.0</td>\n",
       "      <td>0.0</td>\n",
       "      <td>0.0</td>\n",
       "      <td>0.0</td>\n",
       "      <td>0.0</td>\n",
       "      <td>0.0</td>\n",
       "      <td>1.0</td>\n",
       "      <td>0.0</td>\n",
       "      <td>0.0</td>\n",
       "      <td>0.0</td>\n",
       "      <td>1.0</td>\n",
       "      <td>0.0</td>\n",
       "      <td>1.0</td>\n",
       "      <td>0.0</td>\n",
       "      <td>0.0</td>\n",
       "      <td>1.0</td>\n",
       "      <td>0.0</td>\n",
       "      <td>1.0</td>\n",
       "      <td>0.0</td>\n",
       "      <td>-0.992402</td>\n",
       "      <td>1.159546</td>\n",
       "      <td>-0.504334</td>\n",
       "      <td>1</td>\n",
       "      <td>0.821409</td>\n",
       "    </tr>\n",
       "    <tr>\n",
       "      <th>3</th>\n",
       "      <td>0.0</td>\n",
       "      <td>1.0</td>\n",
       "      <td>1.0</td>\n",
       "      <td>0.0</td>\n",
       "      <td>1.0</td>\n",
       "      <td>1.0</td>\n",
       "      <td>0.0</td>\n",
       "      <td>0.0</td>\n",
       "      <td>0.0</td>\n",
       "      <td>0.0</td>\n",
       "      <td>0.0</td>\n",
       "      <td>0.0</td>\n",
       "      <td>1.0</td>\n",
       "      <td>0.0</td>\n",
       "      <td>1.0</td>\n",
       "      <td>0.0</td>\n",
       "      <td>1.0</td>\n",
       "      <td>0.0</td>\n",
       "      <td>1.0</td>\n",
       "      <td>0.0</td>\n",
       "      <td>0.0</td>\n",
       "      <td>1.0</td>\n",
       "      <td>0.0</td>\n",
       "      <td>1.0</td>\n",
       "      <td>0.0</td>\n",
       "      <td>-0.177995</td>\n",
       "      <td>1.330711</td>\n",
       "      <td>0.578223</td>\n",
       "      <td>1</td>\n",
       "      <td>0.509483</td>\n",
       "    </tr>\n",
       "    <tr>\n",
       "      <th>4</th>\n",
       "      <td>0.0</td>\n",
       "      <td>0.0</td>\n",
       "      <td>1.0</td>\n",
       "      <td>0.0</td>\n",
       "      <td>1.0</td>\n",
       "      <td>1.0</td>\n",
       "      <td>0.0</td>\n",
       "      <td>0.0</td>\n",
       "      <td>0.0</td>\n",
       "      <td>0.0</td>\n",
       "      <td>1.0</td>\n",
       "      <td>0.0</td>\n",
       "      <td>1.0</td>\n",
       "      <td>0.0</td>\n",
       "      <td>0.0</td>\n",
       "      <td>0.0</td>\n",
       "      <td>1.0</td>\n",
       "      <td>0.0</td>\n",
       "      <td>1.0</td>\n",
       "      <td>0.0</td>\n",
       "      <td>0.0</td>\n",
       "      <td>1.0</td>\n",
       "      <td>0.0</td>\n",
       "      <td>0.0</td>\n",
       "      <td>0.0</td>\n",
       "      <td>0.677133</td>\n",
       "      <td>1.294151</td>\n",
       "      <td>1.221553</td>\n",
       "      <td>1</td>\n",
       "      <td>0.794358</td>\n",
       "    </tr>\n",
       "  </tbody>\n",
       "</table>\n",
       "</div>"
      ],
      "text/plain": [
       "   Senior Citizen_Yes  Partner_Yes  ...  Churn Value      CLTV\n",
       "0                 0.0          0.0  ...            1 -0.981675\n",
       "1                 0.0          0.0  ...            1 -1.436462\n",
       "2                 0.0          0.0  ...            1  0.821409\n",
       "3                 0.0          1.0  ...            1  0.509483\n",
       "4                 0.0          0.0  ...            1  0.794358\n",
       "\n",
       "[5 rows x 30 columns]"
      ]
     },
     "execution_count": 31,
     "metadata": {},
     "output_type": "execute_result"
    }
   ],
   "source": [
    "df_encoded[['Tenure Months','Monthly Charges','Total Charges','CLTV']] = scaler.fit_transform(df_encoded[['Tenure Months','Monthly Charges','Total Charges','CLTV']])\n",
    "df_encoded.head()"
   ]
  },
  {
   "cell_type": "markdown",
   "metadata": {},
   "source": [
    "Data Splitting into train and test dataset"
   ]
  },
  {
   "cell_type": "code",
   "execution_count": 32,
   "metadata": {},
   "outputs": [],
   "source": [
    "from sklearn.model_selection import train_test_split"
   ]
  },
  {
   "cell_type": "code",
   "execution_count": 33,
   "metadata": {},
   "outputs": [
    {
     "name": "stdout",
     "output_type": "stream",
     "text": [
      "(5634, 29)\n",
      "(1409, 29)\n",
      "(5634,)\n",
      "(1409,)\n"
     ]
    }
   ],
   "source": [
    "x = df_encoded.drop(['Churn Value'],axis=1)\n",
    "y = df_encoded['Churn Value']\n",
    "\n",
    "x_train,x_test,y_train,y_test = train_test_split(x,y,test_size=0.2,shuffle=True,random_state=4567)\n",
    "print(x_train.shape)\n",
    "print(x_test.shape)\n",
    "print(y_train.shape)\n",
    "print(y_test.shape)"
   ]
  },
  {
   "cell_type": "markdown",
   "metadata": {},
   "source": [
    "Churn Prediction using different Classification models"
   ]
  },
  {
   "cell_type": "markdown",
   "metadata": {},
   "source": [
    "Decision Tree"
   ]
  },
  {
   "cell_type": "code",
   "execution_count": 34,
   "metadata": {},
   "outputs": [],
   "source": [
    "from sklearn.tree import DecisionTreeClassifier"
   ]
  },
  {
   "cell_type": "code",
   "execution_count": null,
   "metadata": {},
   "outputs": [
    {
     "name": "stdout",
     "output_type": "stream",
     "text": [
      "0.7175301632363378\n",
      "1.0\n"
     ]
    }
   ],
   "source": [
    "#Define decison tree classifier \n",
    "model_tree = DecisionTreeClassifier(random_state=467)\n",
    "model_tree.fit(x_train,y_train)\n",
    "y_pred = model_tree.predict(x_test)\n",
    "print(model_tree.score(x_test,y_test))\n",
    "print(model_tree.score(x_train,y_train))"
   ]
  },
  {
   "cell_type": "code",
   "execution_count": null,
   "metadata": {},
   "outputs": [],
   "source": [
    "#Evaluate decision tree classifier for better understanding of performance\n",
    "from sklearn.metrics import accuracy_score,classification_report,confusion_matrix"
   ]
  },
  {
   "cell_type": "code",
   "execution_count": 37,
   "metadata": {},
   "outputs": [
    {
     "name": "stdout",
     "output_type": "stream",
     "text": [
      "Accuracy: 0.718\n",
      "Classification Report:\n",
      "               precision    recall  f1-score   support\n",
      "\n",
      "           0       0.81      0.80      0.81      1025\n",
      "           1       0.48      0.48      0.48       384\n",
      "\n",
      "    accuracy                           0.72      1409\n",
      "   macro avg       0.64      0.64      0.64      1409\n",
      "weighted avg       0.72      0.72      0.72      1409\n",
      "\n"
     ]
    },
    {
     "data": {
      "image/png": "[encoded data removed]",
      "text/plain": [
       "<Figure size 600x500 with 2 Axes>"
      ]
     },
     "metadata": {},
     "output_type": "display_data"
    }
   ],
   "source": [
    "print('Accuracy:',round(accuracy_score(y_test,y_pred),3))\n",
    "print('Classification Report:\\n',classification_report(y_test,y_pred)) \n",
    "cm = confusion_matrix(y_test,y_pred)\n",
    "plt.figure(figsize=(6,5))\n",
    "sns.heatmap(cm,annot=True,cmap='coolwarm',fmt='d',xticklabels=['Class 0','Class 1'],yticklabels=['Class 0','Class 1'])\n",
    "plt.xlabel('Predicted labels')\n",
    "plt.ylabel('True lables')\n",
    "plt.title('Confusion Matrix')\n",
    "plt.show()"
   ]
  },
  {
   "cell_type": "markdown",
   "metadata": {},
   "source": [
    "The decision tree model is overfitting the training data having accuracy of 1 for class 0 i.e. [chrun value = No] because the class is imbalanced and that's why it is required to resample for better results"
   ]
  },
  {
   "cell_type": "markdown",
   "metadata": {},
   "source": [
    "Resample the imbalanced data "
   ]
  },
  {
   "cell_type": "code",
   "execution_count": 38,
   "metadata": {},
   "outputs": [],
   "source": [
    "from imblearn.combine import SMOTEENN\n",
    "smoteenn = SMOTEENN(random_state=1568)"
   ]
  },
  {
   "cell_type": "code",
   "execution_count": null,
   "metadata": {},
   "outputs": [
    {
     "name": "stdout",
     "output_type": "stream",
     "text": [
      "y_train(1): 1485\n",
      "y_train(0): 4149\n",
      "re_y_train(1) 3177\n",
      "re_y_train(0) 2308\n"
     ]
    }
   ],
   "source": [
    "#Resample the x and y coordinates\n",
    "x_resampled,y_resampled = smoteenn.fit_resample(x,y)\n",
    "\n",
    "#Split the resampled data\n",
    "rex_train,rex_test,rey_train,rey_test = train_test_split(x_resampled,y_resampled,test_size=0.2,random_state=4579)\n",
    "print('y_train(1):',sum(y_train==1))\n",
    "print('y_train(0):',sum(y_train==0))\n",
    "print('re_y_train(1)',sum(rey_train==1))\n",
    "print('re_y_train(0)',sum(rey_train==0))"
   ]
  },
  {
   "cell_type": "markdown",
   "metadata": {},
   "source": [
    "Optimization of decision tree hyperparameters "
   ]
  },
  {
   "cell_type": "code",
   "execution_count": 40,
   "metadata": {},
   "outputs": [
    {
     "name": "stdout",
     "output_type": "stream",
     "text": [
      "Fitting 5 folds for each of 54 candidates, totalling 270 fits\n",
      "[CV] END criterion=gini, max_depth=4, min_samples_leaf=1, min_samples_split=2; total time=   0.0s\n",
      "[CV] END criterion=gini, max_depth=4, min_samples_leaf=1, min_samples_split=2; total time=   0.0s\n",
      "[CV] END criterion=gini, max_depth=4, min_samples_leaf=1, min_samples_split=2; total time=   0.0s\n",
      "[CV] END criterion=gini, max_depth=4, min_samples_leaf=1, min_samples_split=2; total time=   0.0s\n",
      "[CV] END criterion=gini, max_depth=4, min_samples_leaf=1, min_samples_split=2; total time=   0.0s\n",
      "[CV] END criterion=gini, max_depth=4, min_samples_leaf=1, min_samples_split=4; total time=   0.0s\n",
      "[CV] END criterion=gini, max_depth=4, min_samples_leaf=1, min_samples_split=4; total time=   0.0s\n",
      "[CV] END criterion=gini, max_depth=4, min_samples_leaf=1, min_samples_split=4; total time=   0.0s\n",
      "[CV] END criterion=gini, max_depth=4, min_samples_leaf=1, min_samples_split=4; total time=   0.0s\n",
      "[CV] END criterion=gini, max_depth=4, min_samples_leaf=1, min_samples_split=4; total time=   0.0s\n",
      "[CV] END criterion=gini, max_depth=4, min_samples_leaf=1, min_samples_split=6; total time=   0.0s\n",
      "[CV] END criterion=gini, max_depth=4, min_samples_leaf=1, min_samples_split=6; total time=   0.0s\n",
      "[CV] END criterion=gini, max_depth=4, min_samples_leaf=1, min_samples_split=6; total time=   0.0s\n",
      "[CV] END criterion=gini, max_depth=4, min_samples_leaf=1, min_samples_split=6; total time=   0.0s\n",
      "[CV] END criterion=gini, max_depth=4, min_samples_leaf=1, min_samples_split=6; total time=   0.0s\n",
      "[CV] END criterion=gini, max_depth=4, min_samples_leaf=2, min_samples_split=2; total time=   0.0s\n",
      "[CV] END criterion=gini, max_depth=4, min_samples_leaf=2, min_samples_split=2; total time=   0.0s\n",
      "[CV] END criterion=gini, max_depth=4, min_samples_leaf=2, min_samples_split=2; total time=   0.0s\n",
      "[CV] END criterion=gini, max_depth=4, min_samples_leaf=2, min_samples_split=2; total time=   0.0s\n",
      "[CV] END criterion=gini, max_depth=4, min_samples_leaf=2, min_samples_split=2; total time=   0.0s\n",
      "[CV] END criterion=gini, max_depth=4, min_samples_leaf=2, min_samples_split=4; total time=   0.0s\n",
      "[CV] END criterion=gini, max_depth=4, min_samples_leaf=2, min_samples_split=4; total time=   0.0s\n",
      "[CV] END criterion=gini, max_depth=4, min_samples_leaf=2, min_samples_split=4; total time=   0.0s\n",
      "[CV] END criterion=gini, max_depth=4, min_samples_leaf=2, min_samples_split=4; total time=   0.0s\n",
      "[CV] END criterion=gini, max_depth=4, min_samples_leaf=2, min_samples_split=4; total time=   0.0s\n",
      "[CV] END criterion=gini, max_depth=4, min_samples_leaf=2, min_samples_split=6; total time=   0.0s\n",
      "[CV] END criterion=gini, max_depth=4, min_samples_leaf=2, min_samples_split=6; total time=   0.0s\n",
      "[CV] END criterion=gini, max_depth=4, min_samples_leaf=2, min_samples_split=6; total time=   0.0s\n",
      "[CV] END criterion=gini, max_depth=4, min_samples_leaf=2, min_samples_split=6; total time=   0.0s\n",
      "[CV] END criterion=gini, max_depth=4, min_samples_leaf=2, min_samples_split=6; total time=   0.0s\n",
      "[CV] END criterion=gini, max_depth=4, min_samples_leaf=3, min_samples_split=2; total time=   0.0s\n",
      "[CV] END criterion=gini, max_depth=4, min_samples_leaf=3, min_samples_split=2; total time=   0.0s\n",
      "[CV] END criterion=gini, max_depth=4, min_samples_leaf=3, min_samples_split=2; total time=   0.0s\n",
      "[CV] END criterion=gini, max_depth=4, min_samples_leaf=3, min_samples_split=2; total time=   0.0s\n",
      "[CV] END criterion=gini, max_depth=4, min_samples_leaf=3, min_samples_split=2; total time=   0.0s\n",
      "[CV] END criterion=gini, max_depth=4, min_samples_leaf=3, min_samples_split=4; total time=   0.0s\n",
      "[CV] END criterion=gini, max_depth=4, min_samples_leaf=3, min_samples_split=4; total time=   0.0s\n",
      "[CV] END criterion=gini, max_depth=4, min_samples_leaf=3, min_samples_split=4; total time=   0.0s\n",
      "[CV] END criterion=gini, max_depth=4, min_samples_leaf=3, min_samples_split=4; total time=   0.0s\n",
      "[CV] END criterion=gini, max_depth=4, min_samples_leaf=3, min_samples_split=4; total time=   0.0s\n",
      "[CV] END criterion=gini, max_depth=4, min_samples_leaf=3, min_samples_split=6; total time=   0.0s\n",
      "[CV] END criterion=gini, max_depth=4, min_samples_leaf=3, min_samples_split=6; total time=   0.0s\n",
      "[CV] END criterion=gini, max_depth=4, min_samples_leaf=3, min_samples_split=6; total time=   0.0s\n",
      "[CV] END criterion=gini, max_depth=4, min_samples_leaf=3, min_samples_split=6; total time=   0.0s\n",
      "[CV] END criterion=gini, max_depth=4, min_samples_leaf=3, min_samples_split=6; total time=   0.0s\n",
      "[CV] END criterion=gini, max_depth=6, min_samples_leaf=1, min_samples_split=2; total time=   0.0s\n",
      "[CV] END criterion=gini, max_depth=6, min_samples_leaf=1, min_samples_split=2; total time=   0.0s\n",
      "[CV] END criterion=gini, max_depth=6, min_samples_leaf=1, min_samples_split=2; total time=   0.0s\n",
      "[CV] END criterion=gini, max_depth=6, min_samples_leaf=1, min_samples_split=2; total time=   0.0s\n",
      "[CV] END criterion=gini, max_depth=6, min_samples_leaf=1, min_samples_split=2; total time=   0.0s\n",
      "[CV] END criterion=gini, max_depth=6, min_samples_leaf=1, min_samples_split=4; total time=   0.0s\n",
      "[CV] END criterion=gini, max_depth=6, min_samples_leaf=1, min_samples_split=4; total time=   0.0s\n",
      "[CV] END criterion=gini, max_depth=6, min_samples_leaf=1, min_samples_split=4; total time=   0.0s\n",
      "[CV] END criterion=gini, max_depth=6, min_samples_leaf=1, min_samples_split=4; total time=   0.0s\n",
      "[CV] END criterion=gini, max_depth=6, min_samples_leaf=1, min_samples_split=4; total time=   0.0s\n",
      "[CV] END criterion=gini, max_depth=6, min_samples_leaf=1, min_samples_split=6; total time=   0.0s\n",
      "[CV] END criterion=gini, max_depth=6, min_samples_leaf=1, min_samples_split=6; total time=   0.0s\n",
      "[CV] END criterion=gini, max_depth=6, min_samples_leaf=1, min_samples_split=6; total time=   0.0s\n",
      "[CV] END criterion=gini, max_depth=6, min_samples_leaf=1, min_samples_split=6; total time=   0.0s\n",
      "[CV] END criterion=gini, max_depth=6, min_samples_leaf=1, min_samples_split=6; total time=   0.0s\n",
      "[CV] END criterion=gini, max_depth=6, min_samples_leaf=2, min_samples_split=2; total time=   0.0s\n",
      "[CV] END criterion=gini, max_depth=6, min_samples_leaf=2, min_samples_split=2; total time=   0.0s\n",
      "[CV] END criterion=gini, max_depth=6, min_samples_leaf=2, min_samples_split=2; total time=   0.0s\n",
      "[CV] END criterion=gini, max_depth=6, min_samples_leaf=2, min_samples_split=2; total time=   0.0s\n",
      "[CV] END criterion=gini, max_depth=6, min_samples_leaf=2, min_samples_split=2; total time=   0.0s\n",
      "[CV] END criterion=gini, max_depth=6, min_samples_leaf=2, min_samples_split=4; total time=   0.0s\n",
      "[CV] END criterion=gini, max_depth=6, min_samples_leaf=2, min_samples_split=4; total time=   0.0s\n",
      "[CV] END criterion=gini, max_depth=6, min_samples_leaf=2, min_samples_split=4; total time=   0.0s\n",
      "[CV] END criterion=gini, max_depth=6, min_samples_leaf=2, min_samples_split=4; total time=   0.0s\n",
      "[CV] END criterion=gini, max_depth=6, min_samples_leaf=2, min_samples_split=4; total time=   0.0s\n",
      "[CV] END criterion=gini, max_depth=6, min_samples_leaf=2, min_samples_split=6; total time=   0.0s\n",
      "[CV] END criterion=gini, max_depth=6, min_samples_leaf=2, min_samples_split=6; total time=   0.0s\n",
      "[CV] END criterion=gini, max_depth=6, min_samples_leaf=2, min_samples_split=6; total time=   0.0s\n",
      "[CV] END criterion=gini, max_depth=6, min_samples_leaf=2, min_samples_split=6; total time=   0.0s\n",
      "[CV] END criterion=gini, max_depth=6, min_samples_leaf=2, min_samples_split=6; total time=   0.0s\n",
      "[CV] END criterion=gini, max_depth=6, min_samples_leaf=3, min_samples_split=2; total time=   0.0s\n",
      "[CV] END criterion=gini, max_depth=6, min_samples_leaf=3, min_samples_split=2; total time=   0.0s\n",
      "[CV] END criterion=gini, max_depth=6, min_samples_leaf=3, min_samples_split=2; total time=   0.0s\n",
      "[CV] END criterion=gini, max_depth=6, min_samples_leaf=3, min_samples_split=2; total time=   0.0s\n",
      "[CV] END criterion=gini, max_depth=6, min_samples_leaf=3, min_samples_split=2; total time=   0.0s\n",
      "[CV] END criterion=gini, max_depth=6, min_samples_leaf=3, min_samples_split=4; total time=   0.0s\n",
      "[CV] END criterion=gini, max_depth=6, min_samples_leaf=3, min_samples_split=4; total time=   0.0s\n",
      "[CV] END criterion=gini, max_depth=6, min_samples_leaf=3, min_samples_split=4; total time=   0.0s\n",
      "[CV] END criterion=gini, max_depth=6, min_samples_leaf=3, min_samples_split=4; total time=   0.0s\n",
      "[CV] END criterion=gini, max_depth=6, min_samples_leaf=3, min_samples_split=4; total time=   0.0s\n",
      "[CV] END criterion=gini, max_depth=6, min_samples_leaf=3, min_samples_split=6; total time=   0.0s\n",
      "[CV] END criterion=gini, max_depth=6, min_samples_leaf=3, min_samples_split=6; total time=   0.0s\n",
      "[CV] END criterion=gini, max_depth=6, min_samples_leaf=3, min_samples_split=6; total time=   0.0s\n",
      "[CV] END criterion=gini, max_depth=6, min_samples_leaf=3, min_samples_split=6; total time=   0.0s\n",
      "[CV] END criterion=gini, max_depth=6, min_samples_leaf=3, min_samples_split=6; total time=   0.0s\n",
      "[CV] END criterion=gini, max_depth=8, min_samples_leaf=1, min_samples_split=2; total time=   0.0s\n",
      "[CV] END criterion=gini, max_depth=8, min_samples_leaf=1, min_samples_split=2; total time=   0.0s\n",
      "[CV] END criterion=gini, max_depth=8, min_samples_leaf=1, min_samples_split=2; total time=   0.0s\n",
      "[CV] END criterion=gini, max_depth=8, min_samples_leaf=1, min_samples_split=2; total time=   0.0s\n",
      "[CV] END criterion=gini, max_depth=8, min_samples_leaf=1, min_samples_split=2; total time=   0.0s\n",
      "[CV] END criterion=gini, max_depth=8, min_samples_leaf=1, min_samples_split=4; total time=   0.0s\n",
      "[CV] END criterion=gini, max_depth=8, min_samples_leaf=1, min_samples_split=4; total time=   0.0s\n",
      "[CV] END criterion=gini, max_depth=8, min_samples_leaf=1, min_samples_split=4; total time=   0.0s\n",
      "[CV] END criterion=gini, max_depth=8, min_samples_leaf=1, min_samples_split=4; total time=   0.0s\n",
      "[CV] END criterion=gini, max_depth=8, min_samples_leaf=1, min_samples_split=4; total time=   0.0s\n",
      "[CV] END criterion=gini, max_depth=8, min_samples_leaf=1, min_samples_split=6; total time=   0.0s\n",
      "[CV] END criterion=gini, max_depth=8, min_samples_leaf=1, min_samples_split=6; total time=   0.0s\n",
      "[CV] END criterion=gini, max_depth=8, min_samples_leaf=1, min_samples_split=6; total time=   0.0s\n",
      "[CV] END criterion=gini, max_depth=8, min_samples_leaf=1, min_samples_split=6; total time=   0.0s\n",
      "[CV] END criterion=gini, max_depth=8, min_samples_leaf=1, min_samples_split=6; total time=   0.0s\n",
      "[CV] END criterion=gini, max_depth=8, min_samples_leaf=2, min_samples_split=2; total time=   0.0s\n",
      "[CV] END criterion=gini, max_depth=8, min_samples_leaf=2, min_samples_split=2; total time=   0.0s\n",
      "[CV] END criterion=gini, max_depth=8, min_samples_leaf=2, min_samples_split=2; total time=   0.0s\n",
      "[CV] END criterion=gini, max_depth=8, min_samples_leaf=2, min_samples_split=2; total time=   0.0s\n",
      "[CV] END criterion=gini, max_depth=8, min_samples_leaf=2, min_samples_split=2; total time=   0.0s\n",
      "[CV] END criterion=gini, max_depth=8, min_samples_leaf=2, min_samples_split=4; total time=   0.0s\n",
      "[CV] END criterion=gini, max_depth=8, min_samples_leaf=2, min_samples_split=4; total time=   0.0s\n",
      "[CV] END criterion=gini, max_depth=8, min_samples_leaf=2, min_samples_split=4; total time=   0.0s\n",
      "[CV] END criterion=gini, max_depth=8, min_samples_leaf=2, min_samples_split=4; total time=   0.0s\n",
      "[CV] END criterion=gini, max_depth=8, min_samples_leaf=2, min_samples_split=4; total time=   0.0s\n",
      "[CV] END criterion=gini, max_depth=8, min_samples_leaf=2, min_samples_split=6; total time=   0.0s\n",
      "[CV] END criterion=gini, max_depth=8, min_samples_leaf=2, min_samples_split=6; total time=   0.0s\n",
      "[CV] END criterion=gini, max_depth=8, min_samples_leaf=2, min_samples_split=6; total time=   0.0s\n",
      "[CV] END criterion=gini, max_depth=8, min_samples_leaf=2, min_samples_split=6; total time=   0.0s\n",
      "[CV] END criterion=gini, max_depth=8, min_samples_leaf=2, min_samples_split=6; total time=   0.0s\n",
      "[CV] END criterion=gini, max_depth=8, min_samples_leaf=3, min_samples_split=2; total time=   0.0s\n",
      "[CV] END criterion=gini, max_depth=8, min_samples_leaf=3, min_samples_split=2; total time=   0.0s\n",
      "[CV] END criterion=gini, max_depth=8, min_samples_leaf=3, min_samples_split=2; total time=   0.0s\n",
      "[CV] END criterion=gini, max_depth=8, min_samples_leaf=3, min_samples_split=2; total time=   0.0s\n",
      "[CV] END criterion=gini, max_depth=8, min_samples_leaf=3, min_samples_split=2; total time=   0.0s\n",
      "[CV] END criterion=gini, max_depth=8, min_samples_leaf=3, min_samples_split=4; total time=   0.0s\n",
      "[CV] END criterion=gini, max_depth=8, min_samples_leaf=3, min_samples_split=4; total time=   0.0s\n",
      "[CV] END criterion=gini, max_depth=8, min_samples_leaf=3, min_samples_split=4; total time=   0.0s\n",
      "[CV] END criterion=gini, max_depth=8, min_samples_leaf=3, min_samples_split=4; total time=   0.0s\n",
      "[CV] END criterion=gini, max_depth=8, min_samples_leaf=3, min_samples_split=4; total time=   0.0s\n",
      "[CV] END criterion=gini, max_depth=8, min_samples_leaf=3, min_samples_split=6; total time=   0.0s\n",
      "[CV] END criterion=gini, max_depth=8, min_samples_leaf=3, min_samples_split=6; total time=   0.0s\n",
      "[CV] END criterion=gini, max_depth=8, min_samples_leaf=3, min_samples_split=6; total time=   0.0s\n",
      "[CV] END criterion=gini, max_depth=8, min_samples_leaf=3, min_samples_split=6; total time=   0.0s\n",
      "[CV] END criterion=gini, max_depth=8, min_samples_leaf=3, min_samples_split=6; total time=   0.0s\n",
      "[CV] END criterion=entropy, max_depth=4, min_samples_leaf=1, min_samples_split=2; total time=   0.0s\n",
      "[CV] END criterion=entropy, max_depth=4, min_samples_leaf=1, min_samples_split=2; total time=   0.0s\n",
      "[CV] END criterion=entropy, max_depth=4, min_samples_leaf=1, min_samples_split=2; total time=   0.0s\n",
      "[CV] END criterion=entropy, max_depth=4, min_samples_leaf=1, min_samples_split=2; total time=   0.0s\n",
      "[CV] END criterion=entropy, max_depth=4, min_samples_leaf=1, min_samples_split=2; total time=   0.0s\n",
      "[CV] END criterion=entropy, max_depth=4, min_samples_leaf=1, min_samples_split=4; total time=   0.0s\n",
      "[CV] END criterion=entropy, max_depth=4, min_samples_leaf=1, min_samples_split=4; total time=   0.0s\n",
      "[CV] END criterion=entropy, max_depth=4, min_samples_leaf=1, min_samples_split=4; total time=   0.0s\n",
      "[CV] END criterion=entropy, max_depth=4, min_samples_leaf=1, min_samples_split=4; total time=   0.0s\n",
      "[CV] END criterion=entropy, max_depth=4, min_samples_leaf=1, min_samples_split=4; total time=   0.0s\n",
      "[CV] END criterion=entropy, max_depth=4, min_samples_leaf=1, min_samples_split=6; total time=   0.0s\n",
      "[CV] END criterion=entropy, max_depth=4, min_samples_leaf=1, min_samples_split=6; total time=   0.0s\n",
      "[CV] END criterion=entropy, max_depth=4, min_samples_leaf=1, min_samples_split=6; total time=   0.0s\n",
      "[CV] END criterion=entropy, max_depth=4, min_samples_leaf=1, min_samples_split=6; total time=   0.0s\n",
      "[CV] END criterion=entropy, max_depth=4, min_samples_leaf=1, min_samples_split=6; total time=   0.0s\n",
      "[CV] END criterion=entropy, max_depth=4, min_samples_leaf=2, min_samples_split=2; total time=   0.0s\n",
      "[CV] END criterion=entropy, max_depth=4, min_samples_leaf=2, min_samples_split=2; total time=   0.0s\n",
      "[CV] END criterion=entropy, max_depth=4, min_samples_leaf=2, min_samples_split=2; total time=   0.0s\n",
      "[CV] END criterion=entropy, max_depth=4, min_samples_leaf=2, min_samples_split=2; total time=   0.0s\n",
      "[CV] END criterion=entropy, max_depth=4, min_samples_leaf=2, min_samples_split=2; total time=   0.0s\n",
      "[CV] END criterion=entropy, max_depth=4, min_samples_leaf=2, min_samples_split=4; total time=   0.0s\n",
      "[CV] END criterion=entropy, max_depth=4, min_samples_leaf=2, min_samples_split=4; total time=   0.0s\n",
      "[CV] END criterion=entropy, max_depth=4, min_samples_leaf=2, min_samples_split=4; total time=   0.0s\n",
      "[CV] END criterion=entropy, max_depth=4, min_samples_leaf=2, min_samples_split=4; total time=   0.0s\n",
      "[CV] END criterion=entropy, max_depth=4, min_samples_leaf=2, min_samples_split=4; total time=   0.0s\n",
      "[CV] END criterion=entropy, max_depth=4, min_samples_leaf=2, min_samples_split=6; total time=   0.0s\n",
      "[CV] END criterion=entropy, max_depth=4, min_samples_leaf=2, min_samples_split=6; total time=   0.0s\n",
      "[CV] END criterion=entropy, max_depth=4, min_samples_leaf=2, min_samples_split=6; total time=   0.0s\n",
      "[CV] END criterion=entropy, max_depth=4, min_samples_leaf=2, min_samples_split=6; total time=   0.0s\n",
      "[CV] END criterion=entropy, max_depth=4, min_samples_leaf=2, min_samples_split=6; total time=   0.0s\n",
      "[CV] END criterion=entropy, max_depth=4, min_samples_leaf=3, min_samples_split=2; total time=   0.0s\n",
      "[CV] END criterion=entropy, max_depth=4, min_samples_leaf=3, min_samples_split=2; total time=   0.0s\n",
      "[CV] END criterion=entropy, max_depth=4, min_samples_leaf=3, min_samples_split=2; total time=   0.0s\n",
      "[CV] END criterion=entropy, max_depth=4, min_samples_leaf=3, min_samples_split=2; total time=   0.0s\n",
      "[CV] END criterion=entropy, max_depth=4, min_samples_leaf=3, min_samples_split=2; total time=   0.0s\n",
      "[CV] END criterion=entropy, max_depth=4, min_samples_leaf=3, min_samples_split=4; total time=   0.0s\n",
      "[CV] END criterion=entropy, max_depth=4, min_samples_leaf=3, min_samples_split=4; total time=   0.0s\n",
      "[CV] END criterion=entropy, max_depth=4, min_samples_leaf=3, min_samples_split=4; total time=   0.0s\n",
      "[CV] END criterion=entropy, max_depth=4, min_samples_leaf=3, min_samples_split=4; total time=   0.0s\n",
      "[CV] END criterion=entropy, max_depth=4, min_samples_leaf=3, min_samples_split=4; total time=   0.0s\n",
      "[CV] END criterion=entropy, max_depth=4, min_samples_leaf=3, min_samples_split=6; total time=   0.0s\n",
      "[CV] END criterion=entropy, max_depth=4, min_samples_leaf=3, min_samples_split=6; total time=   0.0s\n",
      "[CV] END criterion=entropy, max_depth=4, min_samples_leaf=3, min_samples_split=6; total time=   0.0s\n",
      "[CV] END criterion=entropy, max_depth=4, min_samples_leaf=3, min_samples_split=6; total time=   0.0s\n",
      "[CV] END criterion=entropy, max_depth=4, min_samples_leaf=3, min_samples_split=6; total time=   0.0s\n",
      "[CV] END criterion=entropy, max_depth=6, min_samples_leaf=1, min_samples_split=2; total time=   0.0s\n",
      "[CV] END criterion=entropy, max_depth=6, min_samples_leaf=1, min_samples_split=2; total time=   0.0s\n",
      "[CV] END criterion=entropy, max_depth=6, min_samples_leaf=1, min_samples_split=2; total time=   0.0s\n",
      "[CV] END criterion=entropy, max_depth=6, min_samples_leaf=1, min_samples_split=2; total time=   0.0s\n",
      "[CV] END criterion=entropy, max_depth=6, min_samples_leaf=1, min_samples_split=2; total time=   0.0s\n",
      "[CV] END criterion=entropy, max_depth=6, min_samples_leaf=1, min_samples_split=4; total time=   0.0s\n",
      "[CV] END criterion=entropy, max_depth=6, min_samples_leaf=1, min_samples_split=4; total time=   0.0s\n",
      "[CV] END criterion=entropy, max_depth=6, min_samples_leaf=1, min_samples_split=4; total time=   0.0s\n",
      "[CV] END criterion=entropy, max_depth=6, min_samples_leaf=1, min_samples_split=4; total time=   0.0s\n",
      "[CV] END criterion=entropy, max_depth=6, min_samples_leaf=1, min_samples_split=4; total time=   0.0s\n",
      "[CV] END criterion=entropy, max_depth=6, min_samples_leaf=1, min_samples_split=6; total time=   0.0s\n",
      "[CV] END criterion=entropy, max_depth=6, min_samples_leaf=1, min_samples_split=6; total time=   0.0s\n",
      "[CV] END criterion=entropy, max_depth=6, min_samples_leaf=1, min_samples_split=6; total time=   0.0s\n",
      "[CV] END criterion=entropy, max_depth=6, min_samples_leaf=1, min_samples_split=6; total time=   0.0s\n",
      "[CV] END criterion=entropy, max_depth=6, min_samples_leaf=1, min_samples_split=6; total time=   0.0s\n",
      "[CV] END criterion=entropy, max_depth=6, min_samples_leaf=2, min_samples_split=2; total time=   0.0s\n",
      "[CV] END criterion=entropy, max_depth=6, min_samples_leaf=2, min_samples_split=2; total time=   0.0s\n",
      "[CV] END criterion=entropy, max_depth=6, min_samples_leaf=2, min_samples_split=2; total time=   0.0s\n",
      "[CV] END criterion=entropy, max_depth=6, min_samples_leaf=2, min_samples_split=2; total time=   0.0s\n",
      "[CV] END criterion=entropy, max_depth=6, min_samples_leaf=2, min_samples_split=2; total time=   0.0s\n",
      "[CV] END criterion=entropy, max_depth=6, min_samples_leaf=2, min_samples_split=4; total time=   0.0s\n",
      "[CV] END criterion=entropy, max_depth=6, min_samples_leaf=2, min_samples_split=4; total time=   0.0s\n",
      "[CV] END criterion=entropy, max_depth=6, min_samples_leaf=2, min_samples_split=4; total time=   0.0s\n",
      "[CV] END criterion=entropy, max_depth=6, min_samples_leaf=2, min_samples_split=4; total time=   0.0s\n",
      "[CV] END criterion=entropy, max_depth=6, min_samples_leaf=2, min_samples_split=4; total time=   0.0s\n",
      "[CV] END criterion=entropy, max_depth=6, min_samples_leaf=2, min_samples_split=6; total time=   0.0s\n",
      "[CV] END criterion=entropy, max_depth=6, min_samples_leaf=2, min_samples_split=6; total time=   0.0s\n",
      "[CV] END criterion=entropy, max_depth=6, min_samples_leaf=2, min_samples_split=6; total time=   0.0s\n",
      "[CV] END criterion=entropy, max_depth=6, min_samples_leaf=2, min_samples_split=6; total time=   0.0s\n",
      "[CV] END criterion=entropy, max_depth=6, min_samples_leaf=2, min_samples_split=6; total time=   0.0s\n",
      "[CV] END criterion=entropy, max_depth=6, min_samples_leaf=3, min_samples_split=2; total time=   0.0s\n",
      "[CV] END criterion=entropy, max_depth=6, min_samples_leaf=3, min_samples_split=2; total time=   0.0s\n",
      "[CV] END criterion=entropy, max_depth=6, min_samples_leaf=3, min_samples_split=2; total time=   0.0s\n",
      "[CV] END criterion=entropy, max_depth=6, min_samples_leaf=3, min_samples_split=2; total time=   0.0s\n",
      "[CV] END criterion=entropy, max_depth=6, min_samples_leaf=3, min_samples_split=2; total time=   0.0s\n",
      "[CV] END criterion=entropy, max_depth=6, min_samples_leaf=3, min_samples_split=4; total time=   0.0s\n",
      "[CV] END criterion=entropy, max_depth=6, min_samples_leaf=3, min_samples_split=4; total time=   0.0s\n",
      "[CV] END criterion=entropy, max_depth=6, min_samples_leaf=3, min_samples_split=4; total time=   0.0s\n",
      "[CV] END criterion=entropy, max_depth=6, min_samples_leaf=3, min_samples_split=4; total time=   0.0s\n",
      "[CV] END criterion=entropy, max_depth=6, min_samples_leaf=3, min_samples_split=4; total time=   0.0s\n",
      "[CV] END criterion=entropy, max_depth=6, min_samples_leaf=3, min_samples_split=6; total time=   0.0s\n",
      "[CV] END criterion=entropy, max_depth=6, min_samples_leaf=3, min_samples_split=6; total time=   0.0s\n",
      "[CV] END criterion=entropy, max_depth=6, min_samples_leaf=3, min_samples_split=6; total time=   0.0s\n",
      "[CV] END criterion=entropy, max_depth=6, min_samples_leaf=3, min_samples_split=6; total time=   0.0s\n",
      "[CV] END criterion=entropy, max_depth=6, min_samples_leaf=3, min_samples_split=6; total time=   0.0s\n",
      "[CV] END criterion=entropy, max_depth=8, min_samples_leaf=1, min_samples_split=2; total time=   0.0s\n",
      "[CV] END criterion=entropy, max_depth=8, min_samples_leaf=1, min_samples_split=2; total time=   0.0s\n",
      "[CV] END criterion=entropy, max_depth=8, min_samples_leaf=1, min_samples_split=2; total time=   0.0s\n",
      "[CV] END criterion=entropy, max_depth=8, min_samples_leaf=1, min_samples_split=2; total time=   0.0s\n",
      "[CV] END criterion=entropy, max_depth=8, min_samples_leaf=1, min_samples_split=2; total time=   0.0s\n",
      "[CV] END criterion=entropy, max_depth=8, min_samples_leaf=1, min_samples_split=4; total time=   0.1s\n",
      "[CV] END criterion=entropy, max_depth=8, min_samples_leaf=1, min_samples_split=4; total time=   0.0s\n",
      "[CV] END criterion=entropy, max_depth=8, min_samples_leaf=1, min_samples_split=4; total time=   0.0s\n",
      "[CV] END criterion=entropy, max_depth=8, min_samples_leaf=1, min_samples_split=4; total time=   0.0s\n",
      "[CV] END criterion=entropy, max_depth=8, min_samples_leaf=1, min_samples_split=4; total time=   0.0s\n",
      "[CV] END criterion=entropy, max_depth=8, min_samples_leaf=1, min_samples_split=6; total time=   0.0s\n",
      "[CV] END criterion=entropy, max_depth=8, min_samples_leaf=1, min_samples_split=6; total time=   0.0s\n",
      "[CV] END criterion=entropy, max_depth=8, min_samples_leaf=1, min_samples_split=6; total time=   0.0s\n",
      "[CV] END criterion=entropy, max_depth=8, min_samples_leaf=1, min_samples_split=6; total time=   0.0s\n",
      "[CV] END criterion=entropy, max_depth=8, min_samples_leaf=1, min_samples_split=6; total time=   0.0s\n",
      "[CV] END criterion=entropy, max_depth=8, min_samples_leaf=2, min_samples_split=2; total time=   0.0s\n",
      "[CV] END criterion=entropy, max_depth=8, min_samples_leaf=2, min_samples_split=2; total time=   0.0s\n",
      "[CV] END criterion=entropy, max_depth=8, min_samples_leaf=2, min_samples_split=2; total time=   0.0s\n",
      "[CV] END criterion=entropy, max_depth=8, min_samples_leaf=2, min_samples_split=2; total time=   0.0s\n",
      "[CV] END criterion=entropy, max_depth=8, min_samples_leaf=2, min_samples_split=2; total time=   0.0s\n",
      "[CV] END criterion=entropy, max_depth=8, min_samples_leaf=2, min_samples_split=4; total time=   0.0s\n",
      "[CV] END criterion=entropy, max_depth=8, min_samples_leaf=2, min_samples_split=4; total time=   0.0s\n",
      "[CV] END criterion=entropy, max_depth=8, min_samples_leaf=2, min_samples_split=4; total time=   0.0s\n",
      "[CV] END criterion=entropy, max_depth=8, min_samples_leaf=2, min_samples_split=4; total time=   0.0s\n",
      "[CV] END criterion=entropy, max_depth=8, min_samples_leaf=2, min_samples_split=4; total time=   0.0s\n",
      "[CV] END criterion=entropy, max_depth=8, min_samples_leaf=2, min_samples_split=6; total time=   0.0s\n",
      "[CV] END criterion=entropy, max_depth=8, min_samples_leaf=2, min_samples_split=6; total time=   0.0s\n",
      "[CV] END criterion=entropy, max_depth=8, min_samples_leaf=2, min_samples_split=6; total time=   0.0s\n",
      "[CV] END criterion=entropy, max_depth=8, min_samples_leaf=2, min_samples_split=6; total time=   0.0s\n",
      "[CV] END criterion=entropy, max_depth=8, min_samples_leaf=2, min_samples_split=6; total time=   0.0s\n",
      "[CV] END criterion=entropy, max_depth=8, min_samples_leaf=3, min_samples_split=2; total time=   0.0s\n",
      "[CV] END criterion=entropy, max_depth=8, min_samples_leaf=3, min_samples_split=2; total time=   0.0s\n",
      "[CV] END criterion=entropy, max_depth=8, min_samples_leaf=3, min_samples_split=2; total time=   0.0s\n",
      "[CV] END criterion=entropy, max_depth=8, min_samples_leaf=3, min_samples_split=2; total time=   0.0s\n",
      "[CV] END criterion=entropy, max_depth=8, min_samples_leaf=3, min_samples_split=2; total time=   0.0s\n",
      "[CV] END criterion=entropy, max_depth=8, min_samples_leaf=3, min_samples_split=4; total time=   0.0s\n",
      "[CV] END criterion=entropy, max_depth=8, min_samples_leaf=3, min_samples_split=4; total time=   0.0s\n",
      "[CV] END criterion=entropy, max_depth=8, min_samples_leaf=3, min_samples_split=4; total time=   0.0s\n",
      "[CV] END criterion=entropy, max_depth=8, min_samples_leaf=3, min_samples_split=4; total time=   0.0s\n",
      "[CV] END criterion=entropy, max_depth=8, min_samples_leaf=3, min_samples_split=4; total time=   0.0s\n",
      "[CV] END criterion=entropy, max_depth=8, min_samples_leaf=3, min_samples_split=6; total time=   0.0s\n",
      "[CV] END criterion=entropy, max_depth=8, min_samples_leaf=3, min_samples_split=6; total time=   0.0s\n",
      "[CV] END criterion=entropy, max_depth=8, min_samples_leaf=3, min_samples_split=6; total time=   0.0s\n",
      "[CV] END criterion=entropy, max_depth=8, min_samples_leaf=3, min_samples_split=6; total time=   0.0s\n",
      "[CV] END criterion=entropy, max_depth=8, min_samples_leaf=3, min_samples_split=6; total time=   0.0s\n",
      "{'criterion': 'gini', 'max_depth': 6, 'min_samples_leaf': 3, 'min_samples_split': 2}\n"
     ]
    }
   ],
   "source": [
    "from sklearn.model_selection import GridSearchCV\n",
    "estimator = DecisionTreeClassifier()\n",
    "param_grid = {'criterion':['gini','entropy'],'max_depth':[4,6,8],'min_samples_split':[2,4,6],'min_samples_leaf':[1,2,3]}\n",
    "grid_search = GridSearchCV(estimator, param_grid=param_grid, verbose=2)\n",
    "grid_search.fit(x,y)\n",
    "print(grid_search.best_params_)"
   ]
  },
  {
   "cell_type": "code",
   "execution_count": null,
   "metadata": {},
   "outputs": [
    {
     "name": "stdout",
     "output_type": "stream",
     "text": [
      "0.9256559766763849\n",
      "0.9296262534184139\n"
     ]
    }
   ],
   "source": [
    "#Re-run the tree classifier\n",
    "re_model_tree= DecisionTreeClassifier(max_depth=6,min_samples_split=2,min_samples_leaf=3,criterion='gini',random_state=237)\n",
    "re_model_tree.fit(rex_train,rey_train)\n",
    "y_pred = re_model_tree.predict(rex_test)\n",
    "print(re_model_tree.score(rex_test,rey_test))\n",
    "print(re_model_tree.score(rex_train,rey_train))"
   ]
  },
  {
   "cell_type": "code",
   "execution_count": null,
   "metadata": {},
   "outputs": [
    {
     "name": "stdout",
     "output_type": "stream",
     "text": [
      "Accuracy: 0.926\n",
      "Classification Report:\n",
      "               precision    recall  f1-score   support\n",
      "\n",
      "           0       0.94      0.88      0.91       589\n",
      "           1       0.91      0.96      0.94       783\n",
      "\n",
      "    accuracy                           0.93      1372\n",
      "   macro avg       0.93      0.92      0.92      1372\n",
      "weighted avg       0.93      0.93      0.93      1372\n",
      "\n"
     ]
    },
    {
     "data": {
      "image/png": "[encoded data removed]",
      "text/plain": [
       "<Figure size 600x500 with 2 Axes>"
      ]
     },
     "metadata": {},
     "output_type": "display_data"
    }
   ],
   "source": [
    "#Re-evaluate the decision tree classifier \n",
    "print('Accuracy:',round(accuracy_score(rey_test,y_pred),3))\n",
    "print('Classification Report:\\n',classification_report(rey_test,y_pred)) \n",
    "cm = confusion_matrix(rey_test,y_pred)\n",
    "plt.figure(figsize=(6,5))\n",
    "sns.heatmap(cm,annot=True,cmap='coolwarm',fmt='d',xticklabels=['Class 0','Class 1'],yticklabels=['Class 0','Class 1'])\n",
    "plt.xlabel('Predicted labels')\n",
    "plt.ylabel('True lables')\n",
    "plt.title('Confusion Matrix')\n",
    "plt.show()"
   ]
  },
  {
   "cell_type": "markdown",
   "metadata": {},
   "source": [
    "Now the decision tree classifier has improved it's performance from 72% to 93% with f1 score of 91% and 94% for class 0 and class 1 by resampling the data and optimizing the hyperparameters for the classifier"
   ]
  },
  {
   "cell_type": "markdown",
   "metadata": {},
   "source": [
    "Random Forest Classifier"
   ]
  },
  {
   "cell_type": "code",
   "execution_count": 43,
   "metadata": {},
   "outputs": [],
   "source": [
    "from sklearn.ensemble import RandomForestClassifier"
   ]
  },
  {
   "cell_type": "code",
   "execution_count": null,
   "metadata": {},
   "outputs": [
    {
     "name": "stdout",
     "output_type": "stream",
     "text": [
      "0.9285714285714286\n",
      "0.9309024612579763\n"
     ]
    }
   ],
   "source": [
    "#Define the random forest classifier\n",
    "model_forest = RandomForestClassifier(n_estimators=100,max_depth=6,min_samples_split=5,min_samples_leaf=3,criterion='entropy',random_state=347)\n",
    "model_forest.fit(rex_train,rey_train)\n",
    "y_pred = model_forest.predict(rex_test)\n",
    "print(model_forest.score(rex_test,rey_test))\n",
    "print(model_forest.score(rex_train,rey_train))"
   ]
  },
  {
   "cell_type": "markdown",
   "metadata": {},
   "source": [
    "Refine the hyperparameters for random forest "
   ]
  },
  {
   "cell_type": "code",
   "execution_count": null,
   "metadata": {},
   "outputs": [
    {
     "name": "stderr",
     "output_type": "stream",
     "text": [
      "\n",
      "KeyboardInterrupt\n",
      "\n"
     ]
    }
   ],
   "source": [
    "from sklearn.model_selection import GridSearchCV\n",
    "estimator = RandomForestClassifier()\n",
    "param_grid = {'criterion':['gini','entropy'],'max_depth':[4,6,8],'min_samples_split':[2,4,6],'min_samples_leaf':[1,2,3]}\n",
    "grid_search = GridSearchCV(estimator, param_grid=param_grid, verbose=2)\n",
    "grid_search.fit(x,y)\n",
    "print(grid_search.best_params_)"
   ]
  },
  {
   "cell_type": "code",
   "execution_count": null,
   "metadata": {},
   "outputs": [
    {
     "name": "stdout",
     "output_type": "stream",
     "text": [
      "0.9482507288629738\n",
      "0.9571558796718322\n"
     ]
    }
   ],
   "source": [
    "#Re-define the forest classifier after the hyperparameter tuning\n",
    "re_model_forest = RandomForestClassifier(n_estimators=100,max_depth=8,min_samples_split=6,min_samples_leaf=3,criterion='entropy',random_state=347)\n",
    "re_model_forest.fit(rex_train,rey_train)\n",
    "y_pred = re_model_forest.predict(rex_test)\n",
    "print(re_model_forest.score(rex_test,rey_test))\n",
    "print(re_model_forest.score(rex_train,rey_train))"
   ]
  },
  {
   "cell_type": "code",
   "execution_count": null,
   "metadata": {},
   "outputs": [
    {
     "name": "stdout",
     "output_type": "stream",
     "text": [
      "Accuracy: 0.948\n",
      "Classification Report:\n",
      "               precision    recall  f1-score   support\n",
      "\n",
      "           0       0.96      0.92      0.94       589\n",
      "           1       0.94      0.97      0.96       783\n",
      "\n",
      "    accuracy                           0.95      1372\n",
      "   macro avg       0.95      0.94      0.95      1372\n",
      "weighted avg       0.95      0.95      0.95      1372\n",
      "\n"
     ]
    },
    {
     "data": {
      "image/png": "[encoded data removed]",
      "text/plain": [
       "<Figure size 600x500 with 2 Axes>"
      ]
     },
     "metadata": {},
     "output_type": "display_data"
    }
   ],
   "source": [
    "#Re-evaluate the refined random forest classifier \n",
    "print('Accuracy:',round(accuracy_score(rey_test,y_pred),3))\n",
    "print('Classification Report:\\n',classification_report(rey_test,y_pred)) \n",
    "cm = confusion_matrix(rey_test,y_pred)\n",
    "plt.figure(figsize=(6,5))\n",
    "sns.heatmap(cm,annot=True,cmap='coolwarm',fmt='d',xticklabels=['Class 0','Class 1'],yticklabels=['Class 0','Class 1'])\n",
    "plt.xlabel('Predicted labels')\n",
    "plt.ylabel('True lables')\n",
    "plt.title('Confusion Matrix')\n",
    "plt.show()"
   ]
  },
  {
   "cell_type": "markdown",
   "metadata": {},
   "source": [
    "Random forest classifier is performing well in terms of accuracy, f1 score, recall and precision  with reduction of overfitting in training dataset unlike decision tree classifier"
   ]
  },
  {
   "cell_type": "markdown",
   "metadata": {},
   "source": [
    "Evaluate Random forest by ROC-AUC score"
   ]
  },
  {
   "cell_type": "code",
   "execution_count": 48,
   "metadata": {},
   "outputs": [],
   "source": [
    "from sklearn.metrics import roc_curve,roc_auc_score"
   ]
  },
  {
   "cell_type": "code",
   "execution_count": 49,
   "metadata": {},
   "outputs": [
    {
     "data": {
      "image/png": "[encoded data removed]",
      "text/plain": [
       "<Figure size 640x480 with 1 Axes>"
      ]
     },
     "metadata": {},
     "output_type": "display_data"
    }
   ],
   "source": [
    "y_proba = re_model_forest.predict_proba(rex_test)[:,1]\n",
    "fpr,tpr,thresholds = roc_curve(rey_test,y_proba)\n",
    "auc_score = roc_auc_score(rey_test,y_proba)\n",
    "\n",
    "#Visualizing ROC Curve\n",
    "plt.figure()\n",
    "plt.plot(fpr, tpr, color='darkgreen', label=f'Random Forest AUC:{round(auc_score,2)}')\n",
    "plt.plot([0, 1], [0, 1], color='black',linestyle='--')\n",
    "plt.xlim([0.0, 1.0])\n",
    "plt.ylim([0.0, 1.05])\n",
    "plt.xlabel('False Positive Rate')\n",
    "plt.ylabel('True Positive Rate')\n",
    "plt.title('ROC Curve for Random Forest Classifier')\n",
    "plt.legend(loc=\"lower right\")\n",
    "plt.show()"
   ]
  },
  {
   "cell_type": "markdown",
   "metadata": {},
   "source": [
    "With 99% AUC score, random forest classifier is doing great at identifying churned and non churned classes"
   ]
  },
  {
   "cell_type": "markdown",
   "metadata": {},
   "source": [
    "Logistic Regression"
   ]
  },
  {
   "cell_type": "code",
   "execution_count": 50,
   "metadata": {},
   "outputs": [],
   "source": [
    "from sklearn.linear_model import LogisticRegression"
   ]
  },
  {
   "cell_type": "code",
   "execution_count": null,
   "metadata": {},
   "outputs": [
    {
     "name": "stdout",
     "output_type": "stream",
     "text": [
      "0.9074344023323615\n",
      "0.9103008204193255\n"
     ]
    }
   ],
   "source": [
    "#Define logistic regression model\n",
    "regression_model = LogisticRegression(solver='liblinear',C=0.5,penalty='l2',random_state=348)\n",
    "regression_model.fit(rex_train,rey_train)\n",
    "y_pred = regression_model.predict(rex_test)\n",
    "print(regression_model.score(rex_test,rey_test))\n",
    "print(regression_model.score(rex_train,rey_train))"
   ]
  },
  {
   "cell_type": "code",
   "execution_count": null,
   "metadata": {},
   "outputs": [
    {
     "name": "stdout",
     "output_type": "stream",
     "text": [
      "Accuracy: 0.907\n",
      "classification Report:\n",
      "               precision    recall  f1-score   support\n",
      "\n",
      "           0       0.90      0.89      0.89       589\n",
      "           1       0.92      0.92      0.92       783\n",
      "\n",
      "    accuracy                           0.91      1372\n",
      "   macro avg       0.91      0.90      0.91      1372\n",
      "weighted avg       0.91      0.91      0.91      1372\n",
      "\n"
     ]
    },
    {
     "data": {
      "image/png": "[encoded data removed]",
      "text/plain": [
       "<Figure size 600x500 with 2 Axes>"
      ]
     },
     "metadata": {},
     "output_type": "display_data"
    }
   ],
   "source": [
    "#Evaluate the regression model\n",
    "print('Accuracy:',round(accuracy_score(rey_test,y_pred),3))\n",
    "print('classification Report:\\n',classification_report(rey_test,y_pred))\n",
    "cm = confusion_matrix(rey_test,y_pred)\n",
    "plt.figure(figsize=(6,5))\n",
    "sns.heatmap(cm,annot=True,cmap='coolwarm',fmt='d',xticklabels=['Class 0','Class 1'],yticklabels=['Class 0','Class 1'])\n",
    "plt.xlabel('Predicted labels')\n",
    "plt.ylabel('True lables')\n",
    "plt.title('Confusion Matrix')\n",
    "plt.show()"
   ]
  },
  {
   "cell_type": "markdown",
   "metadata": {},
   "source": [
    "Optimize Hyperparameters for Logistic Regression"
   ]
  },
  {
   "cell_type": "code",
   "execution_count": 53,
   "metadata": {},
   "outputs": [
    {
     "name": "stdout",
     "output_type": "stream",
     "text": [
      "Fitting 5 folds for each of 6 candidates, totalling 30 fits\n",
      "[CV] END ..................................C=0.1, penalty=l1; total time=   0.0s\n",
      "[CV] END ..................................C=0.1, penalty=l1; total time=   0.0s\n",
      "[CV] END ..................................C=0.1, penalty=l1; total time=   0.0s\n",
      "[CV] END ..................................C=0.1, penalty=l1; total time=   0.0s\n",
      "[CV] END ..................................C=0.1, penalty=l1; total time=   0.0s\n",
      "[CV] END ..................................C=0.1, penalty=l2; total time=   0.0s\n",
      "[CV] END ..................................C=0.1, penalty=l2; total time=   0.0s\n",
      "[CV] END ..................................C=0.1, penalty=l2; total time=   0.0s\n",
      "[CV] END ..................................C=0.1, penalty=l2; total time=   0.0s\n",
      "[CV] END ..................................C=0.1, penalty=l2; total time=   0.0s\n",
      "[CV] END ..................................C=0.5, penalty=l1; total time=   0.0s\n",
      "[CV] END ..................................C=0.5, penalty=l1; total time=   0.0s\n",
      "[CV] END ..................................C=0.5, penalty=l1; total time=   0.0s\n",
      "[CV] END ..................................C=0.5, penalty=l1; total time=   0.0s\n",
      "[CV] END ..................................C=0.5, penalty=l1; total time=   0.0s\n",
      "[CV] END ..................................C=0.5, penalty=l2; total time=   0.0s\n",
      "[CV] END ..................................C=0.5, penalty=l2; total time=   0.0s\n",
      "[CV] END ..................................C=0.5, penalty=l2; total time=   0.0s\n",
      "[CV] END ..................................C=0.5, penalty=l2; total time=   0.0s\n",
      "[CV] END ..................................C=0.5, penalty=l2; total time=   0.0s\n",
      "[CV] END ....................................C=1, penalty=l1; total time=   0.0s\n",
      "[CV] END ....................................C=1, penalty=l1; total time=   0.0s\n",
      "[CV] END ....................................C=1, penalty=l1; total time=   0.0s\n",
      "[CV] END ....................................C=1, penalty=l1; total time=   0.0s\n",
      "[CV] END ....................................C=1, penalty=l1; total time=   0.0s\n",
      "[CV] END ....................................C=1, penalty=l2; total time=   0.0s\n",
      "[CV] END ....................................C=1, penalty=l2; total time=   0.0s\n",
      "[CV] END ....................................C=1, penalty=l2; total time=   0.0s\n",
      "[CV] END ....................................C=1, penalty=l2; total time=   0.0s\n",
      "[CV] END ....................................C=1, penalty=l2; total time=   0.0s\n",
      "{'C': 1, 'penalty': 'l2'}\n"
     ]
    }
   ],
   "source": [
    "estimator = LogisticRegression()\n",
    "param_grid ={'C':[0.1,0.5,1],'penalty':['l1','l2']}\n",
    "grid_search = GridSearchCV(estimator,param_grid,verbose=2)\n",
    "grid_search.fit(x,y)\n",
    "print(grid_search.best_params_)"
   ]
  },
  {
   "cell_type": "code",
   "execution_count": null,
   "metadata": {},
   "outputs": [
    {
     "name": "stdout",
     "output_type": "stream",
     "text": [
      "0.9059766763848397\n",
      "0.9101185050136736\n"
     ]
    }
   ],
   "source": [
    "#Re-run the regression model\n",
    "re_regression_model = LogisticRegression(solver='liblinear',C=1,penalty='l2',random_state=348)\n",
    "re_regression_model.fit(rex_train,rey_train)\n",
    "y_pred = re_regression_model.predict(rex_test)\n",
    "print(re_regression_model.score(rex_test,rey_test))\n",
    "print(re_regression_model.score(rex_train,rey_train))"
   ]
  },
  {
   "cell_type": "code",
   "execution_count": null,
   "metadata": {},
   "outputs": [
    {
     "name": "stdout",
     "output_type": "stream",
     "text": [
      "Accuracy: 0.906\n",
      "classification Report:\n",
      "               precision    recall  f1-score   support\n",
      "\n",
      "           0       0.89      0.89      0.89       589\n",
      "           1       0.91      0.92      0.92       783\n",
      "\n",
      "    accuracy                           0.91      1372\n",
      "   macro avg       0.90      0.90      0.90      1372\n",
      "weighted avg       0.91      0.91      0.91      1372\n",
      "\n"
     ]
    },
    {
     "data": {
      "image/png": "[encoded data removed]",
      "text/plain": [
       "<Figure size 600x500 with 2 Axes>"
      ]
     },
     "metadata": {},
     "output_type": "display_data"
    }
   ],
   "source": [
    "#Re-evaluate the regression model\n",
    "print('Accuracy:',round(accuracy_score(rey_test,y_pred),3))\n",
    "print('classification Report:\\n',classification_report(rey_test,y_pred))\n",
    "cm = confusion_matrix(rey_test,y_pred)\n",
    "plt.figure(figsize=(6,5))\n",
    "sns.heatmap(cm,annot=True,cmap='coolwarm',fmt='d',xticklabels=['Class 0','Class 1'],yticklabels=['Class 0','Class 1'])\n",
    "plt.xlabel('Predicted labels')\n",
    "plt.ylabel('True lables')\n",
    "plt.title('Confusion Matrix')\n",
    "plt.show()"
   ]
  },
  {
   "cell_type": "markdown",
   "metadata": {},
   "source": [
    "As observed, logistic regression model is showing poor perfromance making it inadequate in presence of random forest classifier."
   ]
  },
  {
   "cell_type": "markdown",
   "metadata": {},
   "source": [
    "SVM Model"
   ]
  },
  {
   "cell_type": "code",
   "execution_count": null,
   "metadata": {},
   "outputs": [],
   "source": [
    "#Define support vector machine classifier\n",
    "from sklearn import svm\n",
    "svc = svm.SVC(random_state=784)\n",
    "svc.fit(rex_train,rey_train)\n",
    "y_pred = svc.predict(rex_test)"
   ]
  },
  {
   "cell_type": "code",
   "execution_count": null,
   "metadata": {},
   "outputs": [
    {
     "name": "stdout",
     "output_type": "stream",
     "text": [
      "Accuracy: 0.944\n",
      "Classification Report:\n",
      "               precision    recall  f1-score   support\n",
      "\n",
      "           0       0.95      0.92      0.93       589\n",
      "           1       0.94      0.96      0.95       783\n",
      "\n",
      "    accuracy                           0.94      1372\n",
      "   macro avg       0.94      0.94      0.94      1372\n",
      "weighted avg       0.94      0.94      0.94      1372\n",
      "\n"
     ]
    },
    {
     "data": {
      "image/png": "[encoded data removed]",
      "text/plain": [
       "<Figure size 600x500 with 2 Axes>"
      ]
     },
     "metadata": {},
     "output_type": "display_data"
    }
   ],
   "source": [
    "#Evaluate SVM classifier \n",
    "print('Accuracy:',round(accuracy_score(rey_test,y_pred),3))\n",
    "print('Classification Report:\\n',classification_report(rey_test,y_pred))\n",
    "cm = confusion_matrix(rey_test,y_pred)\n",
    "plt.figure(figsize=(6,5))\n",
    "sns.heatmap(cm, cmap='coolwarm', fmt='d',annot=True, xticklabels=['Class 0','Class 1'], yticklabels=['Class 0', 'Class 1'])\n",
    "plt.xlabel('Predicted labels')\n",
    "plt.ylabel('True labels')\n",
    "plt.title('Confusion Matrix')\n",
    "plt.show()"
   ]
  },
  {
   "cell_type": "markdown",
   "metadata": {},
   "source": [
    "Hyperparameters tunning for SVM classifier"
   ]
  },
  {
   "cell_type": "code",
   "execution_count": 58,
   "metadata": {},
   "outputs": [
    {
     "name": "stdout",
     "output_type": "stream",
     "text": [
      "Fitting 5 folds for each of 9 candidates, totalling 45 fits\n",
      "[CV] END ......................C=0.1, gamma=0.01, kernel=rbf; total time=   2.1s\n",
      "[CV] END ......................C=0.1, gamma=0.01, kernel=rbf; total time=   2.1s\n",
      "[CV] END ......................C=0.1, gamma=0.01, kernel=rbf; total time=   2.1s\n",
      "[CV] END ......................C=0.1, gamma=0.01, kernel=rbf; total time=   2.1s\n",
      "[CV] END ......................C=0.1, gamma=0.01, kernel=rbf; total time=   2.2s\n",
      "[CV] END .......................C=0.1, gamma=0.1, kernel=rbf; total time=   2.0s\n",
      "[CV] END .......................C=0.1, gamma=0.1, kernel=rbf; total time=   1.9s\n",
      "[CV] END .......................C=0.1, gamma=0.1, kernel=rbf; total time=   1.9s\n",
      "[CV] END .......................C=0.1, gamma=0.1, kernel=rbf; total time=   1.9s\n",
      "[CV] END .......................C=0.1, gamma=0.1, kernel=rbf; total time=   1.9s\n",
      "[CV] END .......................C=0.1, gamma=0.5, kernel=rbf; total time=   2.7s\n",
      "[CV] END .......................C=0.1, gamma=0.5, kernel=rbf; total time=   2.8s\n",
      "[CV] END .......................C=0.1, gamma=0.5, kernel=rbf; total time=   2.7s\n",
      "[CV] END .......................C=0.1, gamma=0.5, kernel=rbf; total time=   2.8s\n",
      "[CV] END .......................C=0.1, gamma=0.5, kernel=rbf; total time=   2.7s\n",
      "[CV] END ......................C=0.5, gamma=0.01, kernel=rbf; total time=   1.8s\n",
      "[CV] END ......................C=0.5, gamma=0.01, kernel=rbf; total time=   1.9s\n",
      "[CV] END ......................C=0.5, gamma=0.01, kernel=rbf; total time=   1.8s\n",
      "[CV] END ......................C=0.5, gamma=0.01, kernel=rbf; total time=   1.8s\n",
      "[CV] END ......................C=0.5, gamma=0.01, kernel=rbf; total time=   1.8s\n",
      "[CV] END .......................C=0.5, gamma=0.1, kernel=rbf; total time=   2.0s\n",
      "[CV] END .......................C=0.5, gamma=0.1, kernel=rbf; total time=   1.9s\n",
      "[CV] END .......................C=0.5, gamma=0.1, kernel=rbf; total time=   1.9s\n",
      "[CV] END .......................C=0.5, gamma=0.1, kernel=rbf; total time=   1.9s\n",
      "[CV] END .......................C=0.5, gamma=0.1, kernel=rbf; total time=   1.8s\n",
      "[CV] END .......................C=0.5, gamma=0.5, kernel=rbf; total time=   2.7s\n",
      "[CV] END .......................C=0.5, gamma=0.5, kernel=rbf; total time=   2.7s\n",
      "[CV] END .......................C=0.5, gamma=0.5, kernel=rbf; total time=   2.6s\n",
      "[CV] END .......................C=0.5, gamma=0.5, kernel=rbf; total time=   2.6s\n",
      "[CV] END .......................C=0.5, gamma=0.5, kernel=rbf; total time=   2.7s\n",
      "[CV] END ........................C=1, gamma=0.01, kernel=rbf; total time=   1.8s\n",
      "[CV] END ........................C=1, gamma=0.01, kernel=rbf; total time=   1.8s\n",
      "[CV] END ........................C=1, gamma=0.01, kernel=rbf; total time=   1.8s\n",
      "[CV] END ........................C=1, gamma=0.01, kernel=rbf; total time=   1.8s\n",
      "[CV] END ........................C=1, gamma=0.01, kernel=rbf; total time=   1.8s\n",
      "[CV] END .........................C=1, gamma=0.1, kernel=rbf; total time=   2.0s\n",
      "[CV] END .........................C=1, gamma=0.1, kernel=rbf; total time=   1.9s\n",
      "[CV] END .........................C=1, gamma=0.1, kernel=rbf; total time=   1.9s\n",
      "[CV] END .........................C=1, gamma=0.1, kernel=rbf; total time=   2.0s\n",
      "[CV] END .........................C=1, gamma=0.1, kernel=rbf; total time=   2.0s\n",
      "[CV] END .........................C=1, gamma=0.5, kernel=rbf; total time=   2.9s\n",
      "[CV] END .........................C=1, gamma=0.5, kernel=rbf; total time=   2.8s\n",
      "[CV] END .........................C=1, gamma=0.5, kernel=rbf; total time=   2.8s\n",
      "[CV] END .........................C=1, gamma=0.5, kernel=rbf; total time=   2.9s\n",
      "[CV] END .........................C=1, gamma=0.5, kernel=rbf; total time=   2.8s\n",
      "{'C': 1, 'gamma': 0.01, 'kernel': 'rbf'}\n"
     ]
    }
   ],
   "source": [
    "estimator = svm.SVC()\n",
    "param_grid ={'C':[0.1,0.5,1],'gamma':[0.01,0.1,0.5], 'kernel':['rbf']}\n",
    "grid_search = GridSearchCV(estimator,param_grid,verbose=2)\n",
    "grid_search.fit(x,y)\n",
    "print(grid_search.best_params_)"
   ]
  },
  {
   "cell_type": "code",
   "execution_count": null,
   "metadata": {},
   "outputs": [],
   "source": [
    "#Re-run the SVM classifier\n",
    "svc_model = svm.SVC(C=1,gamma=0.01,kernel='rbf',random_state=784) \n",
    "svc_model.fit(rex_train,rey_train)\n",
    "y_pred = svc_model.predict(rex_test)"
   ]
  },
  {
   "cell_type": "code",
   "execution_count": null,
   "metadata": {},
   "outputs": [
    {
     "name": "stdout",
     "output_type": "stream",
     "text": [
      "Accuracy: 0.91\n",
      "Classification Report:\n",
      "               precision    recall  f1-score   support\n",
      "\n",
      "           0       0.90      0.89      0.89       589\n",
      "           1       0.92      0.92      0.92       783\n",
      "\n",
      "    accuracy                           0.91      1372\n",
      "   macro avg       0.91      0.91      0.91      1372\n",
      "weighted avg       0.91      0.91      0.91      1372\n",
      "\n"
     ]
    },
    {
     "data": {
      "image/png": "[encoded data removed]",
      "text/plain": [
       "<Figure size 600x500 with 2 Axes>"
      ]
     },
     "metadata": {},
     "output_type": "display_data"
    }
   ],
   "source": [
    "#Evaluate SVM classifier again\n",
    "print('Accuracy:',round(accuracy_score(rey_test,y_pred),3))\n",
    "print('Classification Report:\\n',classification_report(rey_test,y_pred))\n",
    "cm = confusion_matrix(rey_test,y_pred)\n",
    "plt.figure(figsize=(6,5))\n",
    "sns.heatmap(cm, cmap='coolwarm', fmt='d',annot=True, xticklabels=['Class 0','Class 1'], yticklabels=['Class 0', 'Class 1'])\n",
    "plt.xlabel('Predicted labels')\n",
    "plt.ylabel('True labels')\n",
    "plt.title('Confusion Matrix')\n",
    "plt.show()"
   ]
  },
  {
   "cell_type": "markdown",
   "metadata": {},
   "source": [
    "After refinement of SVM classifier, model's performance is decreased clarifying that Random forest classifier has outperform predicting churned and non churned class with 95% accuracy and 99% AUC score."
   ]
  },
  {
   "cell_type": "markdown",
   "metadata": {},
   "source": [
    "Saving the model and scaler function"
   ]
  },
  {
   "cell_type": "code",
   "execution_count": 61,
   "metadata": {},
   "outputs": [],
   "source": [
    "import pickle"
   ]
  },
  {
   "cell_type": "code",
   "execution_count": null,
   "metadata": {},
   "outputs": [],
   "source": [
    "#Save the scaler function to a pickle file\n",
    "scalerfile = 'churn_scaler.pkl'\n",
    "pickle.dump(scaler,open(scalerfile,'wb'))"
   ]
  },
  {
   "cell_type": "code",
   "execution_count": null,
   "metadata": {},
   "outputs": [],
   "source": [
    "#Save the model to a pickle file\n",
    "filename = 'churn_model.pkl'\n",
    "pickle.dump(re_model_forest,open(filename,'wb'))"
   ]
  },
  {
   "cell_type": "code",
   "execution_count": null,
   "metadata": {},
   "outputs": [],
   "source": []
  }
 ],
 "metadata": {
  "kernelspec": {
   "display_name": ".venv",
   "language": "python",
   "name": "python3"
  },
  "language_info": {
   "codemirror_mode": {
    "name": "ipython",
    "version": 3
   },
   "file_extension": ".py",
   "mimetype": "text/x-python",
   "name": "python",
   "nbconvert_exporter": "python",
   "pygments_lexer": "ipython3",
   "version": "3.11.0"
  }
 },
 "nbformat": 4,
 "nbformat_minor": 2
}
